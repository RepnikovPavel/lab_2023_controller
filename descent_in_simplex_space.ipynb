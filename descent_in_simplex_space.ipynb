{
 "cells": [
  {
   "cell_type": "code",
   "execution_count": 5,
   "metadata": {},
   "outputs": [],
   "source": [
    "import torch\n",
    "import config\n",
    "import numpy as np\n",
    "import matplotlib.pyplot as plt\n",
    "import os\n",
    "from Alg.solving_algorithm import ModelGenerator\n",
    "from CustomModels.my_models import Integrator\n",
    "from CustomModels.my_models import weighted_amount\n",
    "from aml.plotting import *\n",
    "from Losses.Losses import *\n",
    "from sklearn import decomposition\n",
    "from tqdm import tqdm\n",
    "from scipy.spatial import ConvexHull\n",
    "\n",
    "def adjust_alpha(alpha_n):\n",
    "    for j in range(len(alpha_n)):\n",
    "        if alpha_n[j]<0.0:\n",
    "            alpha_n[j] = 0.0\n",
    "        elif alpha_n[j] > 1.0:\n",
    "            alpha_n[j] = 1.0\n",
    "    alpha_n = alpha_n/np.sum(alpha_n)\n",
    "    return alpha_n \n",
    "\n",
    "def grad_descent_from_alpha_in_simplex(alpha_vec,p_list, shared_integration_supports):\n",
    "    d = len(p_list)\n",
    "    alpha_n = np.copy(alpha_vec)\n",
    "    alpha_n = alpha_n/np.sum(alpha_n)\n",
    "    n = 0\n",
    "    p_mid = None\n",
    "    L_mid = None\n",
    "    all_losses = []\n",
    "    while True:\n",
    "        p_mid = weighted_amount(list_of_distributions=p_list, alpha_list=alpha_n)\n",
    "        L_mid = get_L2_Distrib4D(p_mid,shared_integration_supports)\n",
    "        gradient_ = np.zeros(shape=(d,))\n",
    "        alpha_not_zero = alpha_n[np.argwhere(alpha_n != 0.0)]\n",
    "        alpha_min_ = np.min(alpha_not_zero)\n",
    "        # epsilon_ = np.minimum(alpha_min_/2.0, 1.0/d)\n",
    "        epsilon_ = 10**(-3)\n",
    "        for j in range(d):\n",
    "            if alpha_n[j] < epsilon_:\n",
    "                alpha_1 = np.copy(alpha_n)\n",
    "                alpha_1[j] = alpha_1[j] + epsilon_\n",
    "                p_1 = weighted_amount(list_of_distributions=p_list, alpha_list=alpha_1)\n",
    "                L_1 = get_L2_Distrib4D(p_1,shared_integration_supports)\n",
    "                gradient_[j] = (L_1 - L_mid)/epsilon_\n",
    "                continue\n",
    "            if alpha_n[j] > 1.0-epsilon_:\n",
    "                alpha_2 = np.copy(alpha_n)\n",
    "                alpha_2[j] = alpha_2[j] - epsilon_\n",
    "                p_2 = weighted_amount(list_of_distributions=p_list, alpha_list=alpha_2)\n",
    "                L_2 = get_L2_Distrib4D(p_2,shared_integration_supports)\n",
    "                gradient_[j] = (L_mid-L_2)/epsilon_\n",
    "                continue\n",
    "\n",
    "            alpha_1 = np.copy(alpha_n)\n",
    "            alpha_1[j] = alpha_1[j] + epsilon_\n",
    "            alpha_2 = np.copy(alpha_n)\n",
    "            alpha_2[j] = alpha_2[j] - epsilon_\n",
    "\n",
    "            p_1 = weighted_amount(list_of_distributions=p_list, alpha_list=alpha_1)\n",
    "            p_2 = weighted_amount(list_of_distributions=p_list, alpha_list=alpha_2)\n",
    "\n",
    "            L_1 = get_L2_Distrib4D(p_1,shared_integration_supports)\n",
    "            L_2 = get_L2_Distrib4D(p_2,shared_integration_supports)\n",
    "            # print(L_1,L_2, epsilon_)\n",
    "            gradient_[j] = (L_1 - L_2)/(2*epsilon_)\n",
    "        \n",
    "\n",
    "        lambda_vec = np.logspace(start=4,stop=-4,num=10)\n",
    "        lambda_best = None\n",
    "        loss_current = L_mid\n",
    "        ls = []\n",
    "        lambda_ls = []\n",
    "        for lambda_ in lambda_vec:\n",
    "            alpha_copy = np.copy(alpha_n)\n",
    "            alpha_after = alpha_copy - lambda_*gradient_\n",
    "            if np.sum(alpha_after < 0.0)==d:\n",
    "                continue\n",
    "            alpha_after = adjust_alpha(alpha_after)        \n",
    "            p_after = weighted_amount(list_of_distributions=p_list, alpha_list=alpha_after)\n",
    "            L_after = get_L2_Distrib4D(p_after,shared_integration_supports)\n",
    "            ls.append(L_after)\n",
    "            lambda_ls.append(lambda_)\n",
    "            if L_after<loss_current:\n",
    "                loss_current = L_after\n",
    "                lambda_best = lambda_\n",
    "        # arg_best = np.argsort(ls)[0]\n",
    "        # left_pos = np.maximum(0, arg_best-1)\n",
    "        # right_pos = np.minimum(len(ls)-1, arg_best+1)\n",
    "\n",
    "        # left = lambda_ls[left_pos]\n",
    "        # right = lambda_ls[right_pos]\n",
    "\n",
    "        # lambda_vec = np.linspace(left,right,10)\n",
    "        # addls = []\n",
    "        # addlambda_ls = []\n",
    "        # for lambda_ in lambda_vec:\n",
    "        #     alpha_copy = np.copy(alpha_n)\n",
    "        #     alpha_after = alpha_copy - lambda_*gradient_\n",
    "        #     if np.sum(alpha_after < 0.0)==d:\n",
    "        #         continue\n",
    "        #     alpha_after = adjust_alpha(alpha_after)        \n",
    "        #     p_after = weighted_amount(list_of_distributions=p_list, alpha_list=alpha_after)\n",
    "        #     L_after = get_L2_Distrib4D(p_after,shared_integration_supports)\n",
    "        #     addls.append(L_after)\n",
    "        #     addlambda_ls.append(lambda_)\n",
    "        #     if L_after<loss_current:\n",
    "        #         loss_current = L_after\n",
    "        #         lambda_best = lambda_\n",
    "        # fig,ax = plt.subplots()\n",
    "        # ax.plot(lambda_ls,ls,color= 'k')\n",
    "        # ax.plot(addlambda_ls,addls,color= 'r')\n",
    "        # plt.show()\n",
    "        \n",
    "\n",
    "        all_losses.append(loss_current)\n",
    "        if loss_current == L_mid:\n",
    "            break        \n",
    "\n",
    "        alpha_n = alpha_n - lambda_best*gradient_\n",
    "        alpha_n = adjust_alpha(alpha_n)        \n",
    "\n",
    "        # board_reference.Push(experiment_metadata=experiment_metadata,\n",
    "        #     x=n,y= lambda_best, label='best_lambda')\n",
    "        \n",
    "        # board_reference.Push(experiment_metadata=experiment_metadata,\n",
    "        #     x=n,y= np.linalg.norm(gradient_), label='grad_norm')\n",
    "\n",
    "        n+=1\n",
    "    \n",
    "    return p_mid, L_mid\n",
    "\n",
    "def approx_equal(x1,x2,precision):\n",
    "    if np.absolute(x1-x2) < precision:\n",
    "        return True\n",
    "    else:\n",
    "        return False\n",
    "\n",
    "def search_min_in_simplex_with_center(L_0, mid_of_simplex, simplex, p_list, shared_integration_supports):\n",
    "    pos_of_mid = np.argwhere(simplex==mid_of_simplex).flatten()[0]\n",
    "    d = len(p_list)\n",
    "    all_losses = []\n",
    "    # eps_vec = np.concatenate([np.linspace(0, 1.0, 10),np.logspace(-1,-6,10)])\n",
    "    eps_vec = np.linspace(0.1, 0.9, 5)\n",
    "    p_n = None\n",
    "    L_n = 10**99\n",
    "    loss_n = []\n",
    "    n_ = []\n",
    "    for ITER in range(10):\n",
    "        min_L_in_iter = 10**99\n",
    "        if ITER==0:\n",
    "            for i in range(len(simplex)):\n",
    "                if mid_of_simplex == simplex[i]:\n",
    "                    continue\n",
    "                for j in range(len(eps_vec)):\n",
    "                    eps_= eps_vec[j]\n",
    "                    p_j = weighted_amount(list_of_distributions=[p_list[pos_of_mid], p_list[i]], alpha_list=[1.0-eps_, eps_])\n",
    "                    L_j = get_L2_Distrib4D(p_j, shared_integration_supports)\n",
    "                    if (L_j < min_L_in_iter):\n",
    "                        min_L_in_iter = L_j\n",
    "                    if (L_j < L_n) or approx_equal(L_j, L_n, 10**(-4)):\n",
    "                        L_n = L_j\n",
    "                        p_n = p_j\n",
    "        else:\n",
    "            for i in range(len(simplex)):\n",
    "                for j in range(len(eps_vec)):\n",
    "                    eps_= eps_vec[j]\n",
    "                    p_j = weighted_amount(list_of_distributions=[p_n, p_list[i]], alpha_list=[1.0-eps_, eps_])\n",
    "                    L_j = get_L2_Distrib4D(p_j, shared_integration_supports)\n",
    "                    if (L_j < min_L_in_iter):\n",
    "                        min_L_in_iter = L_j\n",
    "                    if (L_j < L_n) or approx_equal(L_j, L_n, 10**(-4)):\n",
    "                        L_n = L_j\n",
    "                        p_n = p_j\n",
    "        if approx_equal(L_n, L_0,10**(-4)):\n",
    "            break \n",
    "        print('ITER {} LOSS {}'.format(ITER, L_n))\n",
    "        loss_n.append(L_n)\n",
    "        n_.append(ITER)\n",
    "        if min_L_in_iter >= L_0:\n",
    "            break\n",
    "\n",
    "    if L_n > L_0:\n",
    "        return p_list[pos_of_mid], L_0\n",
    "    else:\n",
    "        return p_n, L_n\n",
    "\n",
    "def grad_descent(L_0,p_list,mid_of_siplex,simplex, shared_integration_supports):\n",
    "    # p_n, L_n = search_min_in_simplex_with_center(L_0,mid_of_siplex, simplex,p_list, shared_integration_supports) \n",
    "    # return p_n, L_n\n",
    "    alpha_vec = np.zeros(shape=(len(p_list),))\n",
    "    pos_of_mid = np.argwhere(simplex==mid_of_siplex).flatten()[0]\n",
    "    alpha_vec[pos_of_mid] = 1.0\n",
    "    p_mid, L_mid = grad_descent_from_alpha_in_simplex(alpha_vec,p_list, shared_integration_supports)\n",
    "    return p_mid, L_mid"
   ]
  },
  {
   "cell_type": "code",
   "execution_count": 6,
   "metadata": {},
   "outputs": [
    {
     "name": "stdout",
     "output_type": "stream",
     "text": [
      "number of simplexes for oprimization 1000\n",
      "     num_of_rect_in_intersection 17090\n",
      "start best 0.658098526443756\n"
     ]
    },
    {
     "name": "stderr",
     "output_type": "stream",
     "text": [
      "  0%|          | 1/1000 [00:09<2:31:02,  9.07s/it]"
     ]
    },
    {
     "name": "stdout",
     "output_type": "stream",
     "text": [
      "simplex L_0 0.658098526443756 simplex fitted L 0.658098526443756\n"
     ]
    },
    {
     "name": "stderr",
     "output_type": "stream",
     "text": [
      "  0%|          | 2/1000 [00:44<6:51:56, 24.77s/it]"
     ]
    },
    {
     "name": "stdout",
     "output_type": "stream",
     "text": [
      "simplex L_0 0.7268416947884779 simplex fitted L 0.7203976909998147\n"
     ]
    },
    {
     "name": "stderr",
     "output_type": "stream",
     "text": [
      "  0%|          | 3/1000 [00:53<4:50:12, 17.47s/it]"
     ]
    },
    {
     "name": "stdout",
     "output_type": "stream",
     "text": [
      "simplex L_0 0.7452107457998413 simplex fitted L 0.7452107457998413\n"
     ]
    },
    {
     "name": "stderr",
     "output_type": "stream",
     "text": [
      "  0%|          | 4/1000 [01:03<4:01:06, 14.52s/it]"
     ]
    },
    {
     "name": "stdout",
     "output_type": "stream",
     "text": [
      "simplex L_0 0.7466058521185177 simplex fitted L 0.7466058521185177\n"
     ]
    },
    {
     "name": "stderr",
     "output_type": "stream",
     "text": [
      "  0%|          | 5/1000 [01:18<4:00:31, 14.50s/it]"
     ]
    },
    {
     "name": "stdout",
     "output_type": "stream",
     "text": [
      "simplex L_0 0.7467783333519011 simplex fitted L 0.744429981461491\n"
     ]
    },
    {
     "name": "stderr",
     "output_type": "stream",
     "text": [
      "  1%|          | 6/1000 [01:37<4:30:20, 16.32s/it]"
     ]
    },
    {
     "name": "stdout",
     "output_type": "stream",
     "text": [
      "simplex L_0 0.7588048771206818 simplex fitted L 0.7556086174879798\n"
     ]
    },
    {
     "name": "stderr",
     "output_type": "stream",
     "text": [
      "  1%|          | 7/1000 [01:48<4:00:17, 14.52s/it]"
     ]
    },
    {
     "name": "stdout",
     "output_type": "stream",
     "text": [
      "simplex L_0 0.766070964522576 simplex fitted L 0.766070964522576\n"
     ]
    },
    {
     "name": "stderr",
     "output_type": "stream",
     "text": [
      "  1%|          | 8/1000 [02:11<4:43:47, 17.16s/it]"
     ]
    },
    {
     "name": "stdout",
     "output_type": "stream",
     "text": [
      "simplex L_0 0.7660936431734452 simplex fitted L 0.7460598616393094\n"
     ]
    },
    {
     "name": "stderr",
     "output_type": "stream",
     "text": [
      "  1%|          | 9/1000 [02:19<3:58:12, 14.42s/it]"
     ]
    },
    {
     "name": "stdout",
     "output_type": "stream",
     "text": [
      "simplex L_0 0.7668395082440372 simplex fitted L 0.7668395082440372\n"
     ]
    },
    {
     "name": "stderr",
     "output_type": "stream",
     "text": [
      "  1%|          | 10/1000 [02:42<4:38:26, 16.87s/it]"
     ]
    },
    {
     "name": "stdout",
     "output_type": "stream",
     "text": [
      "simplex L_0 0.7715619939997257 simplex fitted L 0.7703827504457901\n"
     ]
    },
    {
     "name": "stderr",
     "output_type": "stream",
     "text": [
      "  1%|          | 11/1000 [02:50<3:54:32, 14.23s/it]"
     ]
    },
    {
     "name": "stdout",
     "output_type": "stream",
     "text": [
      "simplex L_0 0.7733347679978654 simplex fitted L 0.7733347679978654\n"
     ]
    },
    {
     "name": "stderr",
     "output_type": "stream",
     "text": [
      "  1%|          | 11/1000 [03:07<4:41:08, 17.06s/it]\n"
     ]
    },
    {
     "ename": "KeyboardInterrupt",
     "evalue": "",
     "output_type": "error",
     "traceback": [
      "\u001b[1;31m---------------------------------------------------------------------------\u001b[0m",
      "\u001b[1;31mKeyboardInterrupt\u001b[0m                         Traceback (most recent call last)",
      "\u001b[1;32mc:\\paper\\descent_in_simplex_space.ipynb Cell 2\u001b[0m line \u001b[0;36m6\n\u001b[0;32m     <a href='vscode-notebook-cell:/c%3A/paper/descent_in_simplex_space.ipynb#W1sZmlsZQ%3D%3D?line=59'>60</a>\u001b[0m \u001b[39m# print(BestOfSimplex)\u001b[39;00m\n\u001b[0;32m     <a href='vscode-notebook-cell:/c%3A/paper/descent_in_simplex_space.ipynb#W1sZmlsZQ%3D%3D?line=60'>61</a>\u001b[0m L_0 \u001b[39m=\u001b[39m BestOfSimplex\n\u001b[1;32m---> <a href='vscode-notebook-cell:/c%3A/paper/descent_in_simplex_space.ipynb#W1sZmlsZQ%3D%3D?line=61'>62</a>\u001b[0m p_best, L_best \u001b[39m=\u001b[39m grad_descent(L_0,p_in_simplex,mid_of_siplex,simplex, shared_integration_supports)\n\u001b[0;32m     <a href='vscode-notebook-cell:/c%3A/paper/descent_in_simplex_space.ipynb#W1sZmlsZQ%3D%3D?line=62'>63</a>\u001b[0m \u001b[39mif\u001b[39;00m L_best \u001b[39m<\u001b[39m global_L_min:\n\u001b[0;32m     <a href='vscode-notebook-cell:/c%3A/paper/descent_in_simplex_space.ipynb#W1sZmlsZQ%3D%3D?line=63'>64</a>\u001b[0m     global_L_min \u001b[39m=\u001b[39m L_best\n",
      "\u001b[1;32mc:\\paper\\descent_in_simplex_space.ipynb Cell 2\u001b[0m line \u001b[0;36m1\n\u001b[0;32m    <a href='vscode-notebook-cell:/c%3A/paper/descent_in_simplex_space.ipynb#W1sZmlsZQ%3D%3D?line=191'>192</a>\u001b[0m pos_of_mid \u001b[39m=\u001b[39m np\u001b[39m.\u001b[39margwhere(simplex\u001b[39m==\u001b[39mmid_of_siplex)\u001b[39m.\u001b[39mflatten()[\u001b[39m0\u001b[39m]\n\u001b[0;32m    <a href='vscode-notebook-cell:/c%3A/paper/descent_in_simplex_space.ipynb#W1sZmlsZQ%3D%3D?line=192'>193</a>\u001b[0m alpha_vec[pos_of_mid] \u001b[39m=\u001b[39m \u001b[39m1.0\u001b[39m\n\u001b[1;32m--> <a href='vscode-notebook-cell:/c%3A/paper/descent_in_simplex_space.ipynb#W1sZmlsZQ%3D%3D?line=193'>194</a>\u001b[0m p_mid, L_mid \u001b[39m=\u001b[39m grad_descent_from_alpha_in_simplex(alpha_vec,p_list, shared_integration_supports)\n\u001b[0;32m    <a href='vscode-notebook-cell:/c%3A/paper/descent_in_simplex_space.ipynb#W1sZmlsZQ%3D%3D?line=194'>195</a>\u001b[0m \u001b[39mreturn\u001b[39;00m p_mid, L_mid\n",
      "\u001b[1;32mc:\\paper\\descent_in_simplex_space.ipynb Cell 2\u001b[0m line \u001b[0;36m8\n\u001b[0;32m     <a href='vscode-notebook-cell:/c%3A/paper/descent_in_simplex_space.ipynb#W1sZmlsZQ%3D%3D?line=78'>79</a>\u001b[0m alpha_after \u001b[39m=\u001b[39m adjust_alpha(alpha_after)        \n\u001b[0;32m     <a href='vscode-notebook-cell:/c%3A/paper/descent_in_simplex_space.ipynb#W1sZmlsZQ%3D%3D?line=79'>80</a>\u001b[0m p_after \u001b[39m=\u001b[39m weighted_amount(list_of_distributions\u001b[39m=\u001b[39mp_list, alpha_list\u001b[39m=\u001b[39malpha_after)\n\u001b[1;32m---> <a href='vscode-notebook-cell:/c%3A/paper/descent_in_simplex_space.ipynb#W1sZmlsZQ%3D%3D?line=80'>81</a>\u001b[0m L_after \u001b[39m=\u001b[39m get_L2_Distrib4D(p_after,shared_integration_supports)\n\u001b[0;32m     <a href='vscode-notebook-cell:/c%3A/paper/descent_in_simplex_space.ipynb#W1sZmlsZQ%3D%3D?line=81'>82</a>\u001b[0m ls\u001b[39m.\u001b[39mappend(L_after)\n\u001b[0;32m     <a href='vscode-notebook-cell:/c%3A/paper/descent_in_simplex_space.ipynb#W1sZmlsZQ%3D%3D?line=82'>83</a>\u001b[0m lambda_ls\u001b[39m.\u001b[39mappend(lambda_)\n",
      "File \u001b[1;32mc:\\paper\\Losses\\Losses.py:70\u001b[0m, in \u001b[0;36mget_L2_Distrib4D\u001b[1;34m(p_, shared_integration_supports)\u001b[0m\n\u001b[0;32m     68\u001b[0m \u001b[39mdef\u001b[39;00m \u001b[39mget_L2_Distrib4D\u001b[39m(p_: Distrib4D, shared_integration_supports):\n\u001b[1;32m---> 70\u001b[0m     p_func \u001b[39m=\u001b[39m Integrator\u001b[39m.\u001b[39;49mmake_policy_function(p_xi_eta_gamma\u001b[39m=\u001b[39;49mp_,\n\u001b[0;32m     71\u001b[0m                                             new_omega_list\u001b[39m=\u001b[39;49mshared_integration_supports[\u001b[39m'\u001b[39;49m\u001b[39mnew_omega_list\u001b[39;49m\u001b[39m'\u001b[39;49m],\n\u001b[0;32m     72\u001b[0m                                             list_for_integrate\u001b[39m=\u001b[39;49mshared_integration_supports[\u001b[39m'\u001b[39;49m\u001b[39mlist_for_integrate\u001b[39;49m\u001b[39m'\u001b[39;49m],\n\u001b[0;32m     73\u001b[0m                                             projection_to_x_y_info\u001b[39m=\u001b[39;49mshared_integration_supports[\n\u001b[0;32m     74\u001b[0m                                                 \u001b[39m'\u001b[39;49m\u001b[39mprojection_to_x_y_info\u001b[39;49m\u001b[39m'\u001b[39;49m],\n\u001b[0;32m     75\u001b[0m                                             shared_Rects\u001b[39m=\u001b[39;49mshared_integration_supports[\u001b[39m'\u001b[39;49m\u001b[39mRects\u001b[39;49m\u001b[39m'\u001b[39;49m],\n\u001b[0;32m     76\u001b[0m                                             shared_Grids\u001b[39m=\u001b[39;49mshared_integration_supports[\u001b[39m'\u001b[39;49m\u001b[39mGrids\u001b[39;49m\u001b[39m'\u001b[39;49m],\n\u001b[0;32m     77\u001b[0m                                             print_time_of_this_func\u001b[39m=\u001b[39;49m\u001b[39mFalse\u001b[39;49;00m\n\u001b[0;32m     78\u001b[0m                                             )\n\u001b[0;32m     79\u001b[0m     condition_of_break \u001b[39m=\u001b[39m np\u001b[39m.\u001b[39masarray([\n\u001b[0;32m     80\u001b[0m         config\u001b[39m.\u001b[39mtheta_range,\n\u001b[0;32m     81\u001b[0m         config\u001b[39m.\u001b[39momega_range,\n\u001b[0;32m     82\u001b[0m         [\u001b[39m-\u001b[39m\u001b[39m9999.0\u001b[39m, \u001b[39m9999.0\u001b[39m],\n\u001b[0;32m     83\u001b[0m         [\u001b[39m-\u001b[39m\u001b[39m9999.0\u001b[39m, \u001b[39m9999.0\u001b[39m]\n\u001b[0;32m     84\u001b[0m     ])\n\u001b[0;32m     86\u001b[0m     psi \u001b[39m=\u001b[39m make_psi(policy_func\u001b[39m=\u001b[39mp_func,\n\u001b[0;32m     87\u001b[0m                    translators_units_of_measurement\u001b[39m=\u001b[39mconfig\u001b[39m.\u001b[39mtranslators_units_of_measurement)\n",
      "File \u001b[1;32mc:\\paper\\CustomModels\\my_models.py:577\u001b[0m, in \u001b[0;36mIntegrator.make_policy_function\u001b[1;34m(p_xi_eta_gamma, new_omega_list, list_for_integrate, projection_to_x_y_info, shared_Rects, shared_Grids, print_time_of_this_func, print_time_of_integration_for_each_rect, print_tmp_computed)\u001b[0m\n\u001b[0;32m    574\u001b[0m             tmp_computed \u001b[39m+\u001b[39m\u001b[39m=\u001b[39m \u001b[39m1\u001b[39m\n\u001b[0;32m    575\u001b[0m             \u001b[39mprint\u001b[39m(\u001b[39m\"\u001b[39m\u001b[39mcomputed \u001b[39m\u001b[39m{}\u001b[39;00m\u001b[39m of \u001b[39m\u001b[39m{}\u001b[39;00m\u001b[39m\"\u001b[39m\u001b[39m.\u001b[39mformat(tmp_computed, num_of_intersections_areas))\n\u001b[1;32m--> 577\u001b[0m p_func \u001b[39m=\u001b[39m PolicyFucntionMaker\u001b[39m.\u001b[39;49mmake_policy_function(p_xi_eta_gamma\u001b[39m=\u001b[39;49mp_xi_eta_gamma,\n\u001b[0;32m    578\u001b[0m                                                   projection_to_x_y_info\u001b[39m=\u001b[39;49mprojection_to_x_y_info,\n\u001b[0;32m    579\u001b[0m                                                   list_for_integrate\u001b[39m=\u001b[39;49mlist_for_integrate,\n\u001b[0;32m    580\u001b[0m                                                   new_omega_list\u001b[39m=\u001b[39;49mnew_omega_list,\n\u001b[0;32m    581\u001b[0m                                                   list_of_integrals_z_di\u001b[39m=\u001b[39;49mlist_of_integrals_z_di,\n\u001b[0;32m    582\u001b[0m                                                   Rects\u001b[39m=\u001b[39;49mshared_Rects,\n\u001b[0;32m    583\u001b[0m                                                   Grids\u001b[39m=\u001b[39;49mshared_Grids)\n\u001b[0;32m    585\u001b[0m \u001b[39mif\u001b[39;00m print_time_of_this_func \u001b[39m==\u001b[39m \u001b[39mTrue\u001b[39;00m:\n\u001b[0;32m    586\u001b[0m     \u001b[39mprint\u001b[39m(\u001b[39m\"\u001b[39m\u001b[39m\\n\u001b[39;00m\u001b[39m     time of integration: \u001b[39m\u001b[39m{}\u001b[39;00m\u001b[39m sek\u001b[39m\u001b[39m\"\u001b[39m\u001b[39m.\u001b[39mformat(time\u001b[39m.\u001b[39mtime() \u001b[39m-\u001b[39m start_time_of_integration))\n",
      "File \u001b[1;32mc:\\paper\\CustomModels\\my_models.py:1273\u001b[0m, in \u001b[0;36mPolicyFucntionMaker.make_policy_function\u001b[1;34m(p_xi_eta_gamma, projection_to_x_y_info, list_for_integrate, new_omega_list, list_of_integrals_z_di, Rects, Grids)\u001b[0m\n\u001b[0;32m   1265\u001b[0m \u001b[39m@staticmethod\u001b[39m\n\u001b[0;32m   1266\u001b[0m \u001b[39mdef\u001b[39;00m \u001b[39mmake_policy_function\u001b[39m(p_xi_eta_gamma,\n\u001b[0;32m   1267\u001b[0m                          projection_to_x_y_info,\n\u001b[1;32m   (...)\u001b[0m\n\u001b[0;32m   1271\u001b[0m                          Rects,\n\u001b[0;32m   1272\u001b[0m                          Grids):\n\u001b[1;32m-> 1273\u001b[0m     \u001b[39mreturn\u001b[39;00m PolicyFunction(p_xi_eta_gamma\u001b[39m=\u001b[39;49mp_xi_eta_gamma,\n\u001b[0;32m   1274\u001b[0m                           projection_to_x_y_info\u001b[39m=\u001b[39;49mprojection_to_x_y_info,\n\u001b[0;32m   1275\u001b[0m                           list_for_integrate\u001b[39m=\u001b[39;49mlist_for_integrate,\n\u001b[0;32m   1276\u001b[0m                           new_omega_list\u001b[39m=\u001b[39;49mnew_omega_list,\n\u001b[0;32m   1277\u001b[0m                           list_of_integrals_z_di\u001b[39m=\u001b[39;49mlist_of_integrals_z_di,\n\u001b[0;32m   1278\u001b[0m                           Rects\u001b[39m=\u001b[39;49mRects,\n\u001b[0;32m   1279\u001b[0m                           Grids\u001b[39m=\u001b[39;49mGrids)\n",
      "File \u001b[1;32mc:\\paper\\CustomModels\\my_models.py:758\u001b[0m, in \u001b[0;36mPolicyFunction.__init__\u001b[1;34m(self, p_xi_eta_gamma, projection_to_x_y_info, list_for_integrate, new_omega_list, list_of_integrals_z_di, Rects, Grids)\u001b[0m\n\u001b[0;32m    749\u001b[0m \u001b[39mdef\u001b[39;00m \u001b[39m__init__\u001b[39m(\u001b[39mself\u001b[39m,\n\u001b[0;32m    750\u001b[0m              p_xi_eta_gamma,\n\u001b[0;32m    751\u001b[0m              projection_to_x_y_info,\n\u001b[1;32m   (...)\u001b[0m\n\u001b[0;32m    756\u001b[0m              Grids\n\u001b[0;32m    757\u001b[0m              ):\n\u001b[1;32m--> 758\u001b[0m     list_of_z_and_p_with_fixed_x_y \u001b[39m=\u001b[39m copy_p_from_list_of_integrals_to_x_y_list(\n\u001b[0;32m    759\u001b[0m         projection_to_x_y_info\u001b[39m=\u001b[39;49mprojection_to_x_y_info,\n\u001b[0;32m    760\u001b[0m         old_z\u001b[39m=\u001b[39;49mp_xi_eta_gamma\u001b[39m.\u001b[39;49mz_list,\n\u001b[0;32m    761\u001b[0m         old_omega\u001b[39m=\u001b[39;49mp_xi_eta_gamma\u001b[39m.\u001b[39;49mnp_omega,\n\u001b[0;32m    762\u001b[0m         list_for_integrate\u001b[39m=\u001b[39;49mlist_for_integrate,\n\u001b[0;32m    763\u001b[0m         new_omega_list\u001b[39m=\u001b[39;49mnew_omega_list,\n\u001b[0;32m    764\u001b[0m         list_of_integrals_z_di\u001b[39m=\u001b[39;49mlist_of_integrals_z_di)\n\u001b[0;32m    765\u001b[0m     \u001b[39mself\u001b[39m\u001b[39m.\u001b[39m__P \u001b[39m=\u001b[39m PolicyFunction\u001b[39m.\u001b[39m__compute_P(list_of_z_and_p_with_fixed_x_y, Grids)\n\u001b[0;32m    766\u001b[0m     \u001b[39m# self.shared_Grids_ = [np.asarray(Grids[i],dtype=object) for i in range(len(Grids))]\u001b[39;00m\n\u001b[0;32m    767\u001b[0m     \u001b[39m# self.shared_Rects_ = [np.asarray(Rects[i],dtype=object) for i in range(len(Rects))]\u001b[39;00m\n\u001b[0;32m    768\u001b[0m     \u001b[39m# n_list = numba.typed.List()\u001b[39;00m\n\u001b[1;32m   (...)\u001b[0m\n\u001b[0;32m    776\u001b[0m     \u001b[39m#     x_y_segments.append(y_segments_array)\u001b[39;00m\n\u001b[0;32m    777\u001b[0m     \u001b[39m#     n_list.append(x_y_segments)\u001b[39;00m\n",
      "File \u001b[1;32mc:\\paper\\CustomModels\\my_models.py:644\u001b[0m, in \u001b[0;36mcopy_p_from_list_of_integrals_to_x_y_list\u001b[1;34m(projection_to_x_y_info, old_z, old_omega, list_for_integrate, new_omega_list, list_of_integrals_z_di)\u001b[0m\n\u001b[0;32m    642\u001b[0m     index_of_integral \u001b[39m=\u001b[39m \u001b[39mint\u001b[39m(index_of_integral[\u001b[39m0\u001b[39m])\n\u001b[0;32m    643\u001b[0m     array_of_p \u001b[39m=\u001b[39m list_of_integrals_z_di[index_of_integral]\n\u001b[1;32m--> 644\u001b[0m     indicies_of_x_y \u001b[39m=\u001b[39m get_indicies(\u001b[39minput\u001b[39;49m, new_omega_list[index_of_area])\n\u001b[0;32m    645\u001b[0m     p_in_this_area \u001b[39m=\u001b[39m array_of_p[indicies_of_x_y[\u001b[39m0\u001b[39m], indicies_of_x_y[\u001b[39m1\u001b[39m], :]\n\u001b[0;32m    646\u001b[0m \u001b[39melse\u001b[39;00m:\n\u001b[0;32m    647\u001b[0m     \u001b[39m# мы попали в непроинтегрированную область\u001b[39;00m\n",
      "File \u001b[1;32mc:\\paper\\CustomModels\\my_models.py:591\u001b[0m, in \u001b[0;36mget_indicies\u001b[1;34m(input, new_omega)\u001b[0m\n\u001b[0;32m    586\u001b[0m             \u001b[39mprint\u001b[39m(\u001b[39m\"\u001b[39m\u001b[39m\\n\u001b[39;00m\u001b[39m     time of integration: \u001b[39m\u001b[39m{}\u001b[39;00m\u001b[39m sek\u001b[39m\u001b[39m\"\u001b[39m\u001b[39m.\u001b[39mformat(time\u001b[39m.\u001b[39mtime() \u001b[39m-\u001b[39m start_time_of_integration))\n\u001b[0;32m    588\u001b[0m         \u001b[39mreturn\u001b[39;00m p_func\n\u001b[1;32m--> 591\u001b[0m \u001b[39mdef\u001b[39;00m \u001b[39mget_indicies\u001b[39m(\u001b[39minput\u001b[39m, new_omega):\n\u001b[0;32m    592\u001b[0m     indicies \u001b[39m=\u001b[39m []\n\u001b[0;32m    593\u001b[0m     \u001b[39mfor\u001b[39;00m i \u001b[39min\u001b[39;00m \u001b[39mrange\u001b[39m(\u001b[39mlen\u001b[39m(\u001b[39minput\u001b[39m)):\n",
      "\u001b[1;31mKeyboardInterrupt\u001b[0m: "
     ]
    }
   ],
   "source": [
    "N = 1000\n",
    "\n",
    "mg = ModelGenerator(rules=config.rules,\n",
    "                            cache_dir=config.Phi_cache_dir,\n",
    "                            clear_cache=False)\n",
    "vectors = torch.load(config.Phi_vector_representation)\n",
    "all_p = [torch.load(os.path.join(mg.cache_dir, 'distrib4D_{}.txt'.format(i))) for i in range(N)]\n",
    "all_v = torch.load(os.path.join(config.task_dir, 'L2_for_Phi.txt'))\n",
    "# print(np.sort(all_v))\n",
    "simplices = torch.load(os.path.join(config.task_dir, 'triangulation_simplexes.txt'))\n",
    "sorted_vertesices = [el for el in np.argsort(all_v)]  \n",
    "# get simliexes with best loss \n",
    "# sorted_simplixes = []\n",
    "# simplexes_best = []\n",
    "simpexes_for_omptimization = []\n",
    "for best_vertex in sorted_vertesices:\n",
    "    vertex_siplixes = []\n",
    "    for simplex in simplices:\n",
    "        if best_vertex in  simplex:\n",
    "            vertex_siplixes.append(simplex)\n",
    "    unique_vertexes = np.unique(vertex_siplixes)\n",
    "    simpexes_for_omptimization.append(unique_vertexes)\n",
    "\n",
    "print('number of simplexes for oprimization {}'.format(len(simpexes_for_omptimization)))\n",
    "\n",
    "d = len(vectors[0])\n",
    "support_vertexes = torch.load(os.path.join(config.task_dir, 'support_points.txt'))\n",
    "\n",
    "mg = ModelGenerator(rules=config.rules,\n",
    "                            cache_dir=config.Phi_cache_dir,\n",
    "                            clear_cache=False)\n",
    "shared_integration_supports = Integrator(dir_=config.integrator_dir,\n",
    "                                        shared_data=mg.shared_data,\n",
    "                                        clear_cache=True).shared_integration_supports\n",
    "\n",
    "\n",
    "\n",
    "# board = TensorBoard(tensorboard_exe_path=config.tensorboard_path,\n",
    "#                     logdir=os.path.join(config.task_dir, 'descent_log'),\n",
    "#                     port= '64001')\n",
    "# exp_metadata = 'sorted_simplexes'+get_time()\n",
    "# board.InitExperiment(experiment_metadata= exp_metadata)\n",
    "\n",
    "print('start best {}'.format(np.min(all_v)))\n",
    "global_L_min = 10**99\n",
    "p_best = None\n",
    "# losses_per_simplex_optimization = {i:[] for i in range(len(sorted_simplixes))}\n",
    "# max_iter = np.maximum(int(0.005*len(sorted_simplixes)),1)\n",
    "max_iter = N\n",
    "for i in tqdm(range(max_iter)):\n",
    "    # j = np.random.randint(0, len(sorted_simplixes))\n",
    "    # simplex = sorted_simplixes[j]\n",
    "    # BestOfSimplex = simplexes_best[j]\n",
    "    simplex = simpexes_for_omptimization[i]\n",
    "\n",
    "    p_in_simplex = [all_p[el] for el in simplex]\n",
    "    mid_of_siplex = sorted_vertesices[i]\n",
    "    BestOfSimplex = all_v[mid_of_siplex]\n",
    "\n",
    "    # print(BestOfSimplex)\n",
    "    L_0 = BestOfSimplex\n",
    "    p_best, L_best = grad_descent(L_0,p_in_simplex,mid_of_siplex,simplex, shared_integration_supports)\n",
    "    if L_best < global_L_min:\n",
    "        global_L_min = L_best\n",
    "        p_best = p_best\n",
    "        torch.save(p_best, config.Phi_descent_best_p_path)\n",
    "    print('simplex L_0 {} simplex fitted L {}'.format(BestOfSimplex, L_best))\n",
    "\n",
    "print(global_L_min)"
   ]
  },
  {
   "cell_type": "code",
   "execution_count": null,
   "metadata": {},
   "outputs": [],
   "source": []
  }
 ],
 "metadata": {
  "kernelspec": {
   "display_name": "ml",
   "language": "python",
   "name": "ml"
  },
  "language_info": {
   "codemirror_mode": {
    "name": "ipython",
    "version": 3
   },
   "file_extension": ".py",
   "mimetype": "text/x-python",
   "name": "python",
   "nbconvert_exporter": "python",
   "pygments_lexer": "ipython3",
   "version": "3.11.5"
  },
  "orig_nbformat": 4
 },
 "nbformat": 4,
 "nbformat_minor": 2
}
