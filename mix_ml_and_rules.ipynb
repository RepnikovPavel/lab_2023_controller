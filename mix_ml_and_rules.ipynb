{
 "cells": [
  {
   "cell_type": "code",
   "execution_count": 1,
   "metadata": {},
   "outputs": [],
   "source": [
    "import os\n",
    "import pprint\n",
    "import time\n",
    "\n",
    "import numpy as np\n",
    "import torch\n",
    "from aml.plotting import TensorBoard, get_time,plot_to_image,bar_plot\n",
    "import config\n",
    "from SearchAlg.genetic_alg_general_functions import get_L, GetPhysicalLoss\n",
    "\n",
    "from WinTermHelpers.query_helpers import *\n",
    "from FileSystem.general_purpose_functions import *\n",
    "from Alg.solving_algorithm import ModelGenerator\n",
    "from FileSystem.storage import PStorage, SimResultsManager\n",
    "from CustomModels.my_models import DistrMaker\n",
    "from CustomModels.my_models import Integrator\n",
    "import config\n",
    "from general import plot_policy_function, plot_trajectories,get_sim_results,plot_policy_function_with_trajectories\n",
    "from Simulation.sim_supp import make_psi, make_simulation_for_one_policy_function\n",
    "import sys\n",
    "from general_purpose_functions import time_mesuament\n",
    "from inc_random_descent import insert_noise_to_p\n",
    "import matplotlib.pyplot as plt\n",
    "from config import theta_v_range, omega_v_range, F_v_range\n",
    "from tqdm import tqdm\n",
    "from numba import jit\n",
    "from aml.plotting import *\n",
    "import copy\n",
    "\n",
    "from general import plot_rect\n",
    "from matplotlib import cm"
   ]
  },
  {
   "cell_type": "code",
   "execution_count": null,
   "metadata": {},
   "outputs": [],
   "source": []
  },
  {
   "cell_type": "code",
   "execution_count": null,
   "metadata": {},
   "outputs": [],
   "source": [
    "def make_distrib_from_policy_matrix(PI, x_grid,y_grid, z_grid):\n",
    "    # grid  - index of coord, index of grid segment\n",
    "    grid = np.array(\n",
    "        [\n",
    "            x_grid,\n",
    "            y_grid,\n",
    "            z_grid\n",
    "        ],\n",
    "        dtype=np.float32\n",
    "    )\n"
   ]
  },
  {
   "cell_type": "code",
   "execution_count": 5,
   "metadata": {},
   "outputs": [],
   "source": [
    "N1 = 10\n",
    "N2 = 10\n",
    "M = 10\n",
    "s1_step = (theta_v_range[1]-theta_v_range[0])/N1 \n",
    "s2_step = (omega_v_range[1]-omega_v_range[0])/N2\n",
    "a1_step = (F_v_range[1]-F_v_range[0])/M\n",
    "\n",
    "s1_grid = np.linspace(start=theta_v_range[0],stop=theta_v_range[1],num = N1+1)\n",
    "s2_grid = np.linspace(start=omega_v_range[0],stop=omega_v_range[1],num = N2+1)\n",
    "a1_grid = np.linspace(start=F_v_range[0],stop=F_v_range[1],num = M+1)\n",
    "s1_grid_si = np.array([config.translators_units_of_measurement['from_th_in_volt_to_th_in_si'](el) for el in s1_grid],dtype=np.float32)\n",
    "s2_grid_si = np.array([config.translators_units_of_measurement['from_omega_in_volt_to_omega_in_si'](el) for el in s2_grid],dtype=np.float32)\n",
    "a1_grid_si = np.array([config.translators_units_of_measurement['from_v_in_volt_to_v_in_si'](el) for el in a1_grid],dtype=np.float32)\n",
    "s1_values = np.arange(start = theta_v_range[0]+s1_step/2,stop=theta_v_range[1],step= s1_step)\n",
    "s2_values = np.arange(start = omega_v_range[0]+s2_step/2,stop=omega_v_range[1],step= s2_step)\n",
    "a1_values = np.arange(start = F_v_range[0]+a1_step/2,stop=F_v_range[1],step= a1_step)"
   ]
  },
  {
   "cell_type": "code",
   "execution_count": 6,
   "metadata": {},
   "outputs": [],
   "source": [
    "PI = torch.load(os.path.join(config.task_dir,'policy_ml_backup.txt'))\n"
   ]
  },
  {
   "cell_type": "code",
   "execution_count": null,
   "metadata": {},
   "outputs": [],
   "source": [
    "\n",
    "p_ml = make_distrib_from_policy_matrix(PI,s1_grid,s2_grid,a1_grid)\n",
    "    "
   ]
  },
  {
   "cell_type": "code",
   "execution_count": 2,
   "metadata": {},
   "outputs": [],
   "source": [
    "p_expert = torch.load(config.p_0_for_mixture_path)"
   ]
  },
  {
   "cell_type": "code",
   "execution_count": null,
   "metadata": {},
   "outputs": [],
   "source": []
  }
 ],
 "metadata": {
  "kernelspec": {
   "display_name": "ml",
   "language": "python",
   "name": "ml"
  },
  "language_info": {
   "codemirror_mode": {
    "name": "ipython",
    "version": 3
   },
   "file_extension": ".py",
   "mimetype": "text/x-python",
   "name": "python",
   "nbconvert_exporter": "python",
   "pygments_lexer": "ipython3",
   "version": "3.11.5"
  },
  "orig_nbformat": 4
 },
 "nbformat": 4,
 "nbformat_minor": 2
}
